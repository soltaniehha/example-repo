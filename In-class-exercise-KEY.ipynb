{
 "cells": [
  {
   "cell_type": "markdown",
   "id": "40811b2f-63d3-4389-9a12-aa98c0283333",
   "metadata": {},
   "source": [
    "# Data analysis example using cloud infrastructure"
   ]
  },
  {
   "cell_type": "markdown",
   "id": "c1d0e86d-2eeb-430a-8aaa-126fbed863cd",
   "metadata": {},
   "source": [
    "Data sources: \n",
    "- [NYC Citi Bike Trips](https://citibikenyc.com/system-data)\n",
    "- [Weather data in BigQuery](https://www.cloudskillsboost.google/focuses/609?parent=catalog)"
   ]
  },
  {
   "cell_type": "code",
   "execution_count": 2,
   "id": "70f220c1-6f83-4541-a83e-d772e0ea6a08",
   "metadata": {},
   "outputs": [
    {
     "name": "stdout",
     "output_type": "stream",
     "text": [
      "8.63 GiB     gs://bu-cds/citibike_trips/trips\n"
     ]
    }
   ],
   "source": [
    "!gsutil du -sh gs://bu-cds/citibike_trips/trips"
   ]
  },
  {
   "cell_type": "code",
   "execution_count": 1,
   "id": "8230bb20-6041-464a-a4f7-1c55f2a670bf",
   "metadata": {},
   "outputs": [],
   "source": [
    "#!gsutil ls -lh gs://bu-cds/citibike_trips/trips/"
   ]
  },
  {
   "cell_type": "code",
   "execution_count": 4,
   "id": "42fd6884-4f66-495a-81fc-ef413118dd99",
   "metadata": {},
   "outputs": [
    {
     "data": {
      "text/html": [
       "<div>\n",
       "<style scoped>\n",
       "    .dataframe tbody tr th:only-of-type {\n",
       "        vertical-align: middle;\n",
       "    }\n",
       "\n",
       "    .dataframe tbody tr th {\n",
       "        vertical-align: top;\n",
       "    }\n",
       "\n",
       "    .dataframe thead th {\n",
       "        text-align: right;\n",
       "    }\n",
       "</style>\n",
       "<table border=\"1\" class=\"dataframe\">\n",
       "  <thead>\n",
       "    <tr style=\"text-align: right;\">\n",
       "      <th></th>\n",
       "      <th>tripduration</th>\n",
       "      <th>starttime</th>\n",
       "      <th>stoptime</th>\n",
       "      <th>start_station_id</th>\n",
       "      <th>start_station_name</th>\n",
       "      <th>start_station_latitude</th>\n",
       "      <th>start_station_longitude</th>\n",
       "      <th>end_station_id</th>\n",
       "      <th>end_station_name</th>\n",
       "      <th>end_station_latitude</th>\n",
       "      <th>end_station_longitude</th>\n",
       "      <th>bikeid</th>\n",
       "      <th>usertype</th>\n",
       "      <th>birth_year</th>\n",
       "      <th>gender</th>\n",
       "      <th>customer_plan</th>\n",
       "      <th>date</th>\n",
       "    </tr>\n",
       "  </thead>\n",
       "  <tbody>\n",
       "    <tr>\n",
       "      <th>0</th>\n",
       "      <td>949</td>\n",
       "      <td>2016-05-18 07:54:48.000</td>\n",
       "      <td>2016-05-18 08:10:37.000</td>\n",
       "      <td>496</td>\n",
       "      <td>E 16 St &amp; 5 Ave</td>\n",
       "      <td>40.737262</td>\n",
       "      <td>-73.992390</td>\n",
       "      <td>519</td>\n",
       "      <td>Pershing Square North</td>\n",
       "      <td>40.751873</td>\n",
       "      <td>-73.977706</td>\n",
       "      <td>15472</td>\n",
       "      <td>Subscriber</td>\n",
       "      <td>1949.0</td>\n",
       "      <td>male</td>\n",
       "      <td>NaN</td>\n",
       "      <td>2016-05-18</td>\n",
       "    </tr>\n",
       "    <tr>\n",
       "      <th>1</th>\n",
       "      <td>1333</td>\n",
       "      <td>2016-07-06 12:17:52.000</td>\n",
       "      <td>2016-07-06 12:40:05.000</td>\n",
       "      <td>459</td>\n",
       "      <td>W 20 St &amp; 11 Ave</td>\n",
       "      <td>40.746745</td>\n",
       "      <td>-74.007756</td>\n",
       "      <td>458</td>\n",
       "      <td>11 Ave &amp; W 27 St</td>\n",
       "      <td>40.751396</td>\n",
       "      <td>-74.005226</td>\n",
       "      <td>22929</td>\n",
       "      <td>Subscriber</td>\n",
       "      <td>1949.0</td>\n",
       "      <td>male</td>\n",
       "      <td>NaN</td>\n",
       "      <td>2016-07-06</td>\n",
       "    </tr>\n",
       "    <tr>\n",
       "      <th>2</th>\n",
       "      <td>636</td>\n",
       "      <td>2013-09-27 15:56:47.000</td>\n",
       "      <td>2013-09-27 16:07:23.000</td>\n",
       "      <td>520</td>\n",
       "      <td>W 52 St &amp; 5 Ave</td>\n",
       "      <td>40.759923</td>\n",
       "      <td>-73.976485</td>\n",
       "      <td>379</td>\n",
       "      <td>W 31 St &amp; 7 Ave</td>\n",
       "      <td>40.749156</td>\n",
       "      <td>-73.991600</td>\n",
       "      <td>20145</td>\n",
       "      <td>Subscriber</td>\n",
       "      <td>1901.0</td>\n",
       "      <td>male</td>\n",
       "      <td>NaN</td>\n",
       "      <td>2013-09-27</td>\n",
       "    </tr>\n",
       "    <tr>\n",
       "      <th>3</th>\n",
       "      <td>789</td>\n",
       "      <td>2014-09-26 15:59:11.000</td>\n",
       "      <td>2014-09-26 16:12:20.000</td>\n",
       "      <td>303</td>\n",
       "      <td>Mercer St &amp; Spring St</td>\n",
       "      <td>40.723627</td>\n",
       "      <td>-73.999496</td>\n",
       "      <td>168</td>\n",
       "      <td>W 18 St &amp; 6 Ave</td>\n",
       "      <td>40.739713</td>\n",
       "      <td>-73.994564</td>\n",
       "      <td>18480</td>\n",
       "      <td>Subscriber</td>\n",
       "      <td>1948.0</td>\n",
       "      <td>male</td>\n",
       "      <td>NaN</td>\n",
       "      <td>2014-09-26</td>\n",
       "    </tr>\n",
       "    <tr>\n",
       "      <th>4</th>\n",
       "      <td>1057</td>\n",
       "      <td>2016-09-17 11:33:10.000</td>\n",
       "      <td>2016-09-17 11:50:47.000</td>\n",
       "      <td>285</td>\n",
       "      <td>Broadway &amp; E 14 St</td>\n",
       "      <td>40.734546</td>\n",
       "      <td>-73.990741</td>\n",
       "      <td>350</td>\n",
       "      <td>Clinton St &amp; Grand St</td>\n",
       "      <td>40.715595</td>\n",
       "      <td>-73.987030</td>\n",
       "      <td>26911</td>\n",
       "      <td>Subscriber</td>\n",
       "      <td>1950.0</td>\n",
       "      <td>male</td>\n",
       "      <td>NaN</td>\n",
       "      <td>2016-09-17</td>\n",
       "    </tr>\n",
       "    <tr>\n",
       "      <th>...</th>\n",
       "      <td>...</td>\n",
       "      <td>...</td>\n",
       "      <td>...</td>\n",
       "      <td>...</td>\n",
       "      <td>...</td>\n",
       "      <td>...</td>\n",
       "      <td>...</td>\n",
       "      <td>...</td>\n",
       "      <td>...</td>\n",
       "      <td>...</td>\n",
       "      <td>...</td>\n",
       "      <td>...</td>\n",
       "      <td>...</td>\n",
       "      <td>...</td>\n",
       "      <td>...</td>\n",
       "      <td>...</td>\n",
       "      <td>...</td>\n",
       "    </tr>\n",
       "    <tr>\n",
       "      <th>53108716</th>\n",
       "      <td>847</td>\n",
       "      <td>2018-05-04 19:28:36.155</td>\n",
       "      <td>2018-05-04 19:42:43.350</td>\n",
       "      <td>525</td>\n",
       "      <td>W 34 St &amp; 11 Ave</td>\n",
       "      <td>40.755942</td>\n",
       "      <td>-74.002116</td>\n",
       "      <td>3472</td>\n",
       "      <td>W 15 St &amp; 10 Ave</td>\n",
       "      <td>40.742754</td>\n",
       "      <td>-74.007474</td>\n",
       "      <td>17397</td>\n",
       "      <td>Customer</td>\n",
       "      <td>1996.0</td>\n",
       "      <td>female</td>\n",
       "      <td>NaN</td>\n",
       "      <td>2018-05-04</td>\n",
       "    </tr>\n",
       "    <tr>\n",
       "      <th>53108717</th>\n",
       "      <td>411</td>\n",
       "      <td>2017-12-08 02:22:15.000</td>\n",
       "      <td>2017-12-08 02:29:06.000</td>\n",
       "      <td>435</td>\n",
       "      <td>W 21 St &amp; 6 Ave</td>\n",
       "      <td>40.741740</td>\n",
       "      <td>-73.994156</td>\n",
       "      <td>3244</td>\n",
       "      <td>University Pl &amp; E 8 St</td>\n",
       "      <td>40.731437</td>\n",
       "      <td>-73.994903</td>\n",
       "      <td>16839</td>\n",
       "      <td>Subscriber</td>\n",
       "      <td>1996.0</td>\n",
       "      <td>male</td>\n",
       "      <td>NaN</td>\n",
       "      <td>2017-12-08</td>\n",
       "    </tr>\n",
       "    <tr>\n",
       "      <th>53108718</th>\n",
       "      <td>552</td>\n",
       "      <td>2017-08-06 18:32:46.000</td>\n",
       "      <td>2017-08-06 18:41:58.000</td>\n",
       "      <td>3016</td>\n",
       "      <td>Kent Ave &amp; N 7 St</td>\n",
       "      <td>40.720368</td>\n",
       "      <td>-73.961651</td>\n",
       "      <td>3082</td>\n",
       "      <td>Hope St &amp; Union Ave</td>\n",
       "      <td>40.711674</td>\n",
       "      <td>-73.951413</td>\n",
       "      <td>30016</td>\n",
       "      <td>Subscriber</td>\n",
       "      <td>1996.0</td>\n",
       "      <td>female</td>\n",
       "      <td>NaN</td>\n",
       "      <td>2017-08-06</td>\n",
       "    </tr>\n",
       "    <tr>\n",
       "      <th>53108719</th>\n",
       "      <td>221</td>\n",
       "      <td>2015-11-06 13:24:17.000</td>\n",
       "      <td>2015-11-06 13:27:58.000</td>\n",
       "      <td>161</td>\n",
       "      <td>LaGuardia Pl &amp; W 3 St</td>\n",
       "      <td>40.729170</td>\n",
       "      <td>-73.998102</td>\n",
       "      <td>382</td>\n",
       "      <td>University Pl &amp; E 14 St</td>\n",
       "      <td>40.734927</td>\n",
       "      <td>-73.992005</td>\n",
       "      <td>18440</td>\n",
       "      <td>Subscriber</td>\n",
       "      <td>1996.0</td>\n",
       "      <td>male</td>\n",
       "      <td>NaN</td>\n",
       "      <td>2015-11-06</td>\n",
       "    </tr>\n",
       "    <tr>\n",
       "      <th>53108720</th>\n",
       "      <td>912</td>\n",
       "      <td>2016-07-12 16:58:41.000</td>\n",
       "      <td>2016-07-12 17:13:53.000</td>\n",
       "      <td>445</td>\n",
       "      <td>E 10 St &amp; Avenue A</td>\n",
       "      <td>40.727408</td>\n",
       "      <td>-73.981420</td>\n",
       "      <td>355</td>\n",
       "      <td>Bayard St &amp; Baxter St</td>\n",
       "      <td>40.716021</td>\n",
       "      <td>-73.999744</td>\n",
       "      <td>25651</td>\n",
       "      <td>Subscriber</td>\n",
       "      <td>1996.0</td>\n",
       "      <td>male</td>\n",
       "      <td>NaN</td>\n",
       "      <td>2016-07-12</td>\n",
       "    </tr>\n",
       "  </tbody>\n",
       "</table>\n",
       "<p>53108721 rows × 17 columns</p>\n",
       "</div>"
      ],
      "text/plain": [
       "          tripduration               starttime                stoptime  \\\n",
       "0                  949 2016-05-18 07:54:48.000 2016-05-18 08:10:37.000   \n",
       "1                 1333 2016-07-06 12:17:52.000 2016-07-06 12:40:05.000   \n",
       "2                  636 2013-09-27 15:56:47.000 2013-09-27 16:07:23.000   \n",
       "3                  789 2014-09-26 15:59:11.000 2014-09-26 16:12:20.000   \n",
       "4                 1057 2016-09-17 11:33:10.000 2016-09-17 11:50:47.000   \n",
       "...                ...                     ...                     ...   \n",
       "53108716           847 2018-05-04 19:28:36.155 2018-05-04 19:42:43.350   \n",
       "53108717           411 2017-12-08 02:22:15.000 2017-12-08 02:29:06.000   \n",
       "53108718           552 2017-08-06 18:32:46.000 2017-08-06 18:41:58.000   \n",
       "53108719           221 2015-11-06 13:24:17.000 2015-11-06 13:27:58.000   \n",
       "53108720           912 2016-07-12 16:58:41.000 2016-07-12 17:13:53.000   \n",
       "\n",
       "          start_station_id     start_station_name  start_station_latitude  \\\n",
       "0                      496        E 16 St & 5 Ave               40.737262   \n",
       "1                      459       W 20 St & 11 Ave               40.746745   \n",
       "2                      520        W 52 St & 5 Ave               40.759923   \n",
       "3                      303  Mercer St & Spring St               40.723627   \n",
       "4                      285     Broadway & E 14 St               40.734546   \n",
       "...                    ...                    ...                     ...   \n",
       "53108716               525       W 34 St & 11 Ave               40.755942   \n",
       "53108717               435        W 21 St & 6 Ave               40.741740   \n",
       "53108718              3016      Kent Ave & N 7 St               40.720368   \n",
       "53108719               161  LaGuardia Pl & W 3 St               40.729170   \n",
       "53108720               445     E 10 St & Avenue A               40.727408   \n",
       "\n",
       "          start_station_longitude  end_station_id         end_station_name  \\\n",
       "0                      -73.992390             519    Pershing Square North   \n",
       "1                      -74.007756             458         11 Ave & W 27 St   \n",
       "2                      -73.976485             379          W 31 St & 7 Ave   \n",
       "3                      -73.999496             168          W 18 St & 6 Ave   \n",
       "4                      -73.990741             350    Clinton St & Grand St   \n",
       "...                           ...             ...                      ...   \n",
       "53108716               -74.002116            3472         W 15 St & 10 Ave   \n",
       "53108717               -73.994156            3244   University Pl & E 8 St   \n",
       "53108718               -73.961651            3082      Hope St & Union Ave   \n",
       "53108719               -73.998102             382  University Pl & E 14 St   \n",
       "53108720               -73.981420             355    Bayard St & Baxter St   \n",
       "\n",
       "          end_station_latitude  end_station_longitude  bikeid    usertype  \\\n",
       "0                    40.751873             -73.977706   15472  Subscriber   \n",
       "1                    40.751396             -74.005226   22929  Subscriber   \n",
       "2                    40.749156             -73.991600   20145  Subscriber   \n",
       "3                    40.739713             -73.994564   18480  Subscriber   \n",
       "4                    40.715595             -73.987030   26911  Subscriber   \n",
       "...                        ...                    ...     ...         ...   \n",
       "53108716             40.742754             -74.007474   17397    Customer   \n",
       "53108717             40.731437             -73.994903   16839  Subscriber   \n",
       "53108718             40.711674             -73.951413   30016  Subscriber   \n",
       "53108719             40.734927             -73.992005   18440  Subscriber   \n",
       "53108720             40.716021             -73.999744   25651  Subscriber   \n",
       "\n",
       "          birth_year  gender  customer_plan        date  \n",
       "0             1949.0    male            NaN  2016-05-18  \n",
       "1             1949.0    male            NaN  2016-07-06  \n",
       "2             1901.0    male            NaN  2013-09-27  \n",
       "3             1948.0    male            NaN  2014-09-26  \n",
       "4             1950.0    male            NaN  2016-09-17  \n",
       "...              ...     ...            ...         ...  \n",
       "53108716      1996.0  female            NaN  2018-05-04  \n",
       "53108717      1996.0    male            NaN  2017-12-08  \n",
       "53108718      1996.0  female            NaN  2017-08-06  \n",
       "53108719      1996.0    male            NaN  2015-11-06  \n",
       "53108720      1996.0    male            NaN  2016-07-12  \n",
       "\n",
       "[53108721 rows x 17 columns]"
      ]
     },
     "execution_count": 4,
     "metadata": {},
     "output_type": "execute_result"
    }
   ],
   "source": [
    "# Get a list of all csv files in target directory\n",
    "csv_files = !gsutil ls gs://bu-cds/citibike_trips/trips/shard-*.csv\n",
    "\n",
    "# Read and concatenate all csv files into one dataframe\n",
    "import pandas as pd\n",
    "trips_df = pd.concat((pd.read_csv(f) for f in csv_files), ignore_index=True)\n",
    "\n",
    "trips_df['starttime'] = pd.to_datetime(trips_df['starttime'])\n",
    "trips_df['stoptime'] = pd.to_datetime(trips_df['stoptime'])\n",
    "\n",
    "trips_df['date'] = trips_df.starttime.dt.date\n",
    "\n",
    "trips_df"
   ]
  },
  {
   "cell_type": "code",
   "execution_count": 5,
   "id": "2b7d4450-2b38-4091-b08a-461219b74a94",
   "metadata": {},
   "outputs": [
    {
     "name": "stdout",
     "output_type": "stream",
     "text": [
      "<class 'pandas.core.frame.DataFrame'>\n",
      "RangeIndex: 53108721 entries, 0 to 53108720\n",
      "Data columns (total 17 columns):\n",
      " #   Column                   Dtype         \n",
      "---  ------                   -----         \n",
      " 0   tripduration             int64         \n",
      " 1   starttime                datetime64[ns]\n",
      " 2   stoptime                 datetime64[ns]\n",
      " 3   start_station_id         int64         \n",
      " 4   start_station_name       object        \n",
      " 5   start_station_latitude   float64       \n",
      " 6   start_station_longitude  float64       \n",
      " 7   end_station_id           int64         \n",
      " 8   end_station_name         object        \n",
      " 9   end_station_latitude     float64       \n",
      " 10  end_station_longitude    float64       \n",
      " 11  bikeid                   int64         \n",
      " 12  usertype                 object        \n",
      " 13  birth_year               float64       \n",
      " 14  gender                   object        \n",
      " 15  customer_plan            float64       \n",
      " 16  date                     object        \n",
      "dtypes: datetime64[ns](2), float64(6), int64(4), object(5)\n",
      "memory usage: 6.7+ GB\n"
     ]
    }
   ],
   "source": [
    "trips_df.info()"
   ]
  },
  {
   "cell_type": "code",
   "execution_count": 6,
   "id": "e5b7246a-ce2f-48a8-b2d6-bf5ed85d24bf",
   "metadata": {},
   "outputs": [
    {
     "data": {
      "text/plain": [
       "51116665216"
      ]
     },
     "execution_count": 6,
     "metadata": {},
     "output_type": "execute_result"
    }
   ],
   "source": [
    "trips_df.tripduration.sum()"
   ]
  },
  {
   "cell_type": "markdown",
   "id": "76e315ab-1583-4bc3-bbd3-6a720f955e80",
   "metadata": {},
   "source": [
    "Are there any missing values in this dataset that we need to handle?"
   ]
  },
  {
   "cell_type": "code",
   "execution_count": 7,
   "id": "21d09b47-916c-4cad-9d4b-47e1bbdb05b9",
   "metadata": {},
   "outputs": [
    {
     "data": {
      "text/plain": [
       "tripduration                      0\n",
       "starttime                         0\n",
       "stoptime                          0\n",
       "start_station_id                  0\n",
       "start_station_name                0\n",
       "start_station_latitude            0\n",
       "start_station_longitude           0\n",
       "end_station_id                    0\n",
       "end_station_name                  0\n",
       "end_station_latitude              0\n",
       "end_station_longitude             0\n",
       "bikeid                            0\n",
       "usertype                          0\n",
       "birth_year                  5574391\n",
       "gender                            0\n",
       "customer_plan              53108721\n",
       "date                              0\n",
       "dtype: int64"
      ]
     },
     "execution_count": 7,
     "metadata": {},
     "output_type": "execute_result"
    }
   ],
   "source": [
    "trips_df.isna().sum()"
   ]
  },
  {
   "cell_type": "markdown",
   "id": "3a7c1feb-f286-45b7-8bb4-03b771a73b98",
   "metadata": {},
   "source": [
    "Could you also check with missingno package? (you might have to install the library if it's your first time using it)"
   ]
  },
  {
   "cell_type": "code",
   "execution_count": 8,
   "id": "2e2118b5-06fc-452b-83e1-f1080aea5348",
   "metadata": {},
   "outputs": [],
   "source": [
    "!pip install -q missingno"
   ]
  },
  {
   "cell_type": "code",
   "execution_count": null,
   "id": "7f1f43a5-f163-416d-a56b-74e46659591e",
   "metadata": {},
   "outputs": [],
   "source": [
    "import missingno as msno\n",
    "msno.matrix(trips_df)"
   ]
  },
  {
   "cell_type": "markdown",
   "id": "e78233a0-248d-4335-9cdd-f88dc39baae1",
   "metadata": {},
   "source": [
    "What are the most and least popular destination stations?"
   ]
  },
  {
   "cell_type": "code",
   "execution_count": 9,
   "id": "97c7a5b2-f14a-4422-9749-fa252f10f8d6",
   "metadata": {},
   "outputs": [
    {
     "data": {
      "text/plain": [
       "E 17 St & Broadway         444460\n",
       "Pershing Square North      419931\n",
       "W 21 St & 6 Ave            407982\n",
       "West St & Chambers St      399033\n",
       "Broadway & E 22 St         377854\n",
       "                            ...  \n",
       "Communipaw & Berry Lane         1\n",
       "NJCU                            1\n",
       "Hilltop                         1\n",
       "Union St                        1\n",
       "Jersey & 3rd                    1\n",
       "Name: end_station_name, Length: 965, dtype: int64"
      ]
     },
     "execution_count": 9,
     "metadata": {},
     "output_type": "execute_result"
    }
   ],
   "source": [
    "trips_df.end_station_name.value_counts()"
   ]
  },
  {
   "cell_type": "markdown",
   "id": "2a295b3b-1e30-4f94-8c63-f4b57a50908e",
   "metadata": {},
   "source": [
    "How many minutes is the average duration of a bike ride in this dataset? (original unit: seconds)"
   ]
  },
  {
   "cell_type": "code",
   "execution_count": 10,
   "id": "70e07677-1c9c-4b26-a8d8-b9bb647fed63",
   "metadata": {},
   "outputs": [
    {
     "data": {
      "text/plain": [
       "16.041516425648187"
      ]
     },
     "execution_count": 10,
     "metadata": {},
     "output_type": "execute_result"
    }
   ],
   "source": [
    "trips_df.tripduration.mean()/60"
   ]
  },
  {
   "cell_type": "markdown",
   "id": "931851bc-7401-473b-ab9e-5299c32af93c",
   "metadata": {},
   "source": [
    "What is the maximum duration of a bike ride in this dataset?"
   ]
  },
  {
   "cell_type": "code",
   "execution_count": 11,
   "id": "c0a2b34a-99de-4cd0-bdbd-64da939dc7af",
   "metadata": {},
   "outputs": [
    {
     "data": {
      "text/plain": [
       "325167.48333333334"
      ]
     },
     "execution_count": 11,
     "metadata": {},
     "output_type": "execute_result"
    }
   ],
   "source": [
    "trips_df.tripduration.max()/60"
   ]
  },
  {
   "cell_type": "markdown",
   "id": "3a34ad51-e2c4-4eec-94f2-47ab9f0e4169",
   "metadata": {},
   "source": [
    "Looks like we need to remove some bad records. Let's remove all the rows where the duration of a ride is greater than 12 hours (12*60*60 = 43200 seconds)"
   ]
  },
  {
   "cell_type": "code",
   "execution_count": 12,
   "id": "ac05da17-e445-4fd8-98b8-19086c80c31d",
   "metadata": {},
   "outputs": [
    {
     "data": {
      "text/plain": [
       "(27623, 17)"
      ]
     },
     "execution_count": 12,
     "metadata": {},
     "output_type": "execute_result"
    }
   ],
   "source": [
    "trips_df[trips_df.tripduration > 43200].shape"
   ]
  },
  {
   "cell_type": "code",
   "execution_count": 13,
   "id": "6c6d6b25-caeb-46d7-bbf0-fa1de4fd2efb",
   "metadata": {},
   "outputs": [],
   "source": [
    "trips_df = trips_df[trips_df.tripduration < 43200]"
   ]
  },
  {
   "cell_type": "markdown",
   "id": "1725e114-4ee3-4c3d-9017-3fef15d5644e",
   "metadata": {},
   "source": [
    "How about its distribution?"
   ]
  },
  {
   "cell_type": "code",
   "execution_count": 14,
   "id": "8bb2ebc6-2234-4950-a869-8492878e3360",
   "metadata": {},
   "outputs": [
    {
     "data": {
      "image/png": "[encoded data removed]",
      "text/plain": [
       "<Figure size 500x500 with 1 Axes>"
      ]
     },
     "metadata": {},
     "output_type": "display_data"
    }
   ],
   "source": [
    "import seaborn as sns\n",
    "sns.displot(trips_df.tripduration, bins=12, kde=False);"
   ]
  },
  {
   "cell_type": "code",
   "execution_count": 15,
   "id": "c2f19d2a-27f7-4126-90cc-952efd8c418b",
   "metadata": {},
   "outputs": [
    {
     "data": {
      "image/png": "[encoded data removed]",
      "text/plain": [
       "<Figure size 500x500 with 1 Axes>"
      ]
     },
     "metadata": {},
     "output_type": "display_data"
    }
   ],
   "source": [
    "sns.displot(trips_df[trips_df.tripduration < 60*60].tripduration/60, bins=60, kde=False);"
   ]
  },
  {
   "cell_type": "markdown",
   "id": "5b484fbf-3f64-4d5f-a229-eb94e4133277",
   "metadata": {},
   "source": [
    "How many rides are done by subscribers?"
   ]
  },
  {
   "cell_type": "code",
   "execution_count": 16,
   "id": "d4a621e4-c809-4b5b-90e8-794dfc4dfd87",
   "metadata": {},
   "outputs": [
    {
     "data": {
      "text/plain": [
       "Subscriber    46903098\n",
       "Customer       6178000\n",
       "Name: usertype, dtype: int64"
      ]
     },
     "execution_count": 16,
     "metadata": {},
     "output_type": "execute_result"
    }
   ],
   "source": [
    "trips_df['usertype'].value_counts()"
   ]
  },
  {
   "cell_type": "code",
   "execution_count": 17,
   "id": "d3eafa5d-ba98-45bf-913b-f6bd3562fd94",
   "metadata": {},
   "outputs": [
    {
     "data": {
      "image/png": "[encoded data removed]",
      "text/plain": [
       "<Figure size 640x480 with 1 Axes>"
      ]
     },
     "metadata": {},
     "output_type": "display_data"
    }
   ],
   "source": [
    "trips_df['usertype'].value_counts().plot(kind='bar');"
   ]
  },
  {
   "cell_type": "markdown",
   "id": "8db5ca0b-5359-4844-b3a2-275bb4232242",
   "metadata": {},
   "source": [
    "What's the date range?"
   ]
  },
  {
   "cell_type": "code",
   "execution_count": 18,
   "id": "304dc90b-b356-46ed-b177-4c3c06296cc1",
   "metadata": {},
   "outputs": [
    {
     "name": "stdout",
     "output_type": "stream",
     "text": [
      "2013-07-01 2018-05-31\n"
     ]
    }
   ],
   "source": [
    "print(trips_df.date.min(), trips_df.date.max())"
   ]
  },
  {
   "cell_type": "code",
   "execution_count": 19,
   "id": "04e64951-09bf-41ac-a89c-5b6ea2648419",
   "metadata": {},
   "outputs": [
    {
     "data": {
      "application/vnd.jupyter.widget-view+json": {
       "model_id": "9160bec95acb4fe7a5c0bf8e5171c969",
       "version_major": 2,
       "version_minor": 0
      },
      "text/plain": [
       "Query is running:   0%|          |"
      ]
     },
     "metadata": {},
     "output_type": "display_data"
    },
    {
     "data": {
      "application/vnd.jupyter.widget-view+json": {
       "model_id": "7d93c40d9cb747bb8d715c6ac95d7fe3",
       "version_major": 2,
       "version_minor": 0
      },
      "text/plain": [
       "Downloading:   0%|          |"
      ]
     },
     "metadata": {},
     "output_type": "display_data"
    }
   ],
   "source": [
    "%%bigquery weather_df\n",
    "SELECT * FROM `bigquery-public-data.noaa_gsod.gsod201*`\n",
    "WHERE stn = '725030' AND wban = '14732'  -- LaGuardia Airport"
   ]
  },
  {
   "cell_type": "code",
   "execution_count": 20,
   "id": "e9253222-59ea-47b6-b19e-35cad499b75f",
   "metadata": {},
   "outputs": [
    {
     "data": {
      "text/html": [
       "<div>\n",
       "<style scoped>\n",
       "    .dataframe tbody tr th:only-of-type {\n",
       "        vertical-align: middle;\n",
       "    }\n",
       "\n",
       "    .dataframe tbody tr th {\n",
       "        vertical-align: top;\n",
       "    }\n",
       "\n",
       "    .dataframe thead th {\n",
       "        text-align: right;\n",
       "    }\n",
       "</style>\n",
       "<table border=\"1\" class=\"dataframe\">\n",
       "  <thead>\n",
       "    <tr style=\"text-align: right;\">\n",
       "      <th></th>\n",
       "      <th>date</th>\n",
       "      <th>prcp</th>\n",
       "      <th>temp</th>\n",
       "    </tr>\n",
       "  </thead>\n",
       "  <tbody>\n",
       "    <tr>\n",
       "      <th>0</th>\n",
       "      <td>2013-04-10</td>\n",
       "      <td>0.14</td>\n",
       "      <td>62.8</td>\n",
       "    </tr>\n",
       "    <tr>\n",
       "      <th>1</th>\n",
       "      <td>2013-03-30</td>\n",
       "      <td>0.00</td>\n",
       "      <td>48.1</td>\n",
       "    </tr>\n",
       "    <tr>\n",
       "      <th>2</th>\n",
       "      <td>2013-05-17</td>\n",
       "      <td>0.00</td>\n",
       "      <td>66.9</td>\n",
       "    </tr>\n",
       "    <tr>\n",
       "      <th>3</th>\n",
       "      <td>2013-01-20</td>\n",
       "      <td>0.00</td>\n",
       "      <td>46.9</td>\n",
       "    </tr>\n",
       "    <tr>\n",
       "      <th>4</th>\n",
       "      <td>2013-02-04</td>\n",
       "      <td>0.03</td>\n",
       "      <td>28.3</td>\n",
       "    </tr>\n",
       "    <tr>\n",
       "      <th>...</th>\n",
       "      <td>...</td>\n",
       "      <td>...</td>\n",
       "      <td>...</td>\n",
       "    </tr>\n",
       "    <tr>\n",
       "      <th>3647</th>\n",
       "      <td>2016-10-10</td>\n",
       "      <td>0.32</td>\n",
       "      <td>57.0</td>\n",
       "    </tr>\n",
       "    <tr>\n",
       "      <th>3648</th>\n",
       "      <td>2016-06-12</td>\n",
       "      <td>0.10</td>\n",
       "      <td>80.2</td>\n",
       "    </tr>\n",
       "    <tr>\n",
       "      <th>3649</th>\n",
       "      <td>2016-07-26</td>\n",
       "      <td>0.77</td>\n",
       "      <td>81.7</td>\n",
       "    </tr>\n",
       "    <tr>\n",
       "      <th>3650</th>\n",
       "      <td>2016-11-21</td>\n",
       "      <td>0.34</td>\n",
       "      <td>40.7</td>\n",
       "    </tr>\n",
       "    <tr>\n",
       "      <th>3651</th>\n",
       "      <td>2016-03-12</td>\n",
       "      <td>0.00</td>\n",
       "      <td>49.6</td>\n",
       "    </tr>\n",
       "  </tbody>\n",
       "</table>\n",
       "<p>3652 rows × 3 columns</p>\n",
       "</div>"
      ],
      "text/plain": [
       "            date  prcp  temp\n",
       "0     2013-04-10  0.14  62.8\n",
       "1     2013-03-30  0.00  48.1\n",
       "2     2013-05-17  0.00  66.9\n",
       "3     2013-01-20  0.00  46.9\n",
       "4     2013-02-04  0.03  28.3\n",
       "...          ...   ...   ...\n",
       "3647  2016-10-10  0.32  57.0\n",
       "3648  2016-06-12  0.10  80.2\n",
       "3649  2016-07-26  0.77  81.7\n",
       "3650  2016-11-21  0.34  40.7\n",
       "3651  2016-03-12  0.00  49.6\n",
       "\n",
       "[3652 rows x 3 columns]"
      ]
     },
     "execution_count": 20,
     "metadata": {},
     "output_type": "execute_result"
    }
   ],
   "source": [
    "weather_df['date'] = pd.to_datetime(weather_df['year'] + '-' + weather_df['mo'] + '-' + weather_df['da']).dt.date\n",
    "weather_df = weather_df[['date', 'prcp', 'temp']]\n",
    "weather_df"
   ]
  },
  {
   "cell_type": "code",
   "execution_count": 21,
   "id": "2ad4bffd-00b9-413e-b2c8-572fe76e1ab5",
   "metadata": {},
   "outputs": [
    {
     "data": {
      "text/html": [
       "<div>\n",
       "<style scoped>\n",
       "    .dataframe tbody tr th:only-of-type {\n",
       "        vertical-align: middle;\n",
       "    }\n",
       "\n",
       "    .dataframe tbody tr th {\n",
       "        vertical-align: top;\n",
       "    }\n",
       "\n",
       "    .dataframe thead th {\n",
       "        text-align: right;\n",
       "    }\n",
       "</style>\n",
       "<table border=\"1\" class=\"dataframe\">\n",
       "  <thead>\n",
       "    <tr style=\"text-align: right;\">\n",
       "      <th></th>\n",
       "      <th>tripduration</th>\n",
       "      <th>starttime</th>\n",
       "      <th>stoptime</th>\n",
       "      <th>start_station_id</th>\n",
       "      <th>start_station_name</th>\n",
       "      <th>start_station_latitude</th>\n",
       "      <th>start_station_longitude</th>\n",
       "      <th>end_station_id</th>\n",
       "      <th>end_station_name</th>\n",
       "      <th>end_station_latitude</th>\n",
       "      <th>end_station_longitude</th>\n",
       "      <th>bikeid</th>\n",
       "      <th>usertype</th>\n",
       "      <th>birth_year</th>\n",
       "      <th>gender</th>\n",
       "      <th>customer_plan</th>\n",
       "      <th>date</th>\n",
       "      <th>prcp</th>\n",
       "      <th>temp</th>\n",
       "    </tr>\n",
       "  </thead>\n",
       "  <tbody>\n",
       "    <tr>\n",
       "      <th>0</th>\n",
       "      <td>949</td>\n",
       "      <td>2016-05-18 07:54:48</td>\n",
       "      <td>2016-05-18 08:10:37</td>\n",
       "      <td>496</td>\n",
       "      <td>E 16 St &amp; 5 Ave</td>\n",
       "      <td>40.737262</td>\n",
       "      <td>-73.992390</td>\n",
       "      <td>519</td>\n",
       "      <td>Pershing Square North</td>\n",
       "      <td>40.751873</td>\n",
       "      <td>-73.977706</td>\n",
       "      <td>15472</td>\n",
       "      <td>Subscriber</td>\n",
       "      <td>1949.0</td>\n",
       "      <td>male</td>\n",
       "      <td>NaN</td>\n",
       "      <td>2016-05-18</td>\n",
       "      <td>0.00</td>\n",
       "      <td>59.3</td>\n",
       "    </tr>\n",
       "    <tr>\n",
       "      <th>1</th>\n",
       "      <td>672</td>\n",
       "      <td>2016-05-18 08:11:31</td>\n",
       "      <td>2016-05-18 08:22:43</td>\n",
       "      <td>380</td>\n",
       "      <td>W 4 St &amp; 7 Ave S</td>\n",
       "      <td>40.734011</td>\n",
       "      <td>-74.002939</td>\n",
       "      <td>379</td>\n",
       "      <td>W 31 St &amp; 7 Ave</td>\n",
       "      <td>40.749156</td>\n",
       "      <td>-73.991600</td>\n",
       "      <td>22002</td>\n",
       "      <td>Subscriber</td>\n",
       "      <td>1951.0</td>\n",
       "      <td>male</td>\n",
       "      <td>NaN</td>\n",
       "      <td>2016-05-18</td>\n",
       "      <td>0.00</td>\n",
       "      <td>59.3</td>\n",
       "    </tr>\n",
       "    <tr>\n",
       "      <th>2</th>\n",
       "      <td>727</td>\n",
       "      <td>2016-05-18 14:35:24</td>\n",
       "      <td>2016-05-18 14:47:32</td>\n",
       "      <td>461</td>\n",
       "      <td>E 20 St &amp; 2 Ave</td>\n",
       "      <td>40.735877</td>\n",
       "      <td>-73.982050</td>\n",
       "      <td>3243</td>\n",
       "      <td>E 58 St &amp; 1 Ave</td>\n",
       "      <td>40.758924</td>\n",
       "      <td>-73.962262</td>\n",
       "      <td>20687</td>\n",
       "      <td>Subscriber</td>\n",
       "      <td>1948.0</td>\n",
       "      <td>male</td>\n",
       "      <td>NaN</td>\n",
       "      <td>2016-05-18</td>\n",
       "      <td>0.00</td>\n",
       "      <td>59.3</td>\n",
       "    </tr>\n",
       "    <tr>\n",
       "      <th>3</th>\n",
       "      <td>1368</td>\n",
       "      <td>2016-05-18 07:42:18</td>\n",
       "      <td>2016-05-18 08:05:06</td>\n",
       "      <td>435</td>\n",
       "      <td>W 21 St &amp; 6 Ave</td>\n",
       "      <td>40.741740</td>\n",
       "      <td>-73.994156</td>\n",
       "      <td>340</td>\n",
       "      <td>Madison St &amp; Clinton St</td>\n",
       "      <td>40.712690</td>\n",
       "      <td>-73.987763</td>\n",
       "      <td>20740</td>\n",
       "      <td>Subscriber</td>\n",
       "      <td>1900.0</td>\n",
       "      <td>male</td>\n",
       "      <td>NaN</td>\n",
       "      <td>2016-05-18</td>\n",
       "      <td>0.00</td>\n",
       "      <td>59.3</td>\n",
       "    </tr>\n",
       "    <tr>\n",
       "      <th>4</th>\n",
       "      <td>975</td>\n",
       "      <td>2016-05-18 16:25:08</td>\n",
       "      <td>2016-05-18 16:41:24</td>\n",
       "      <td>3223</td>\n",
       "      <td>E 55 St &amp; 3 Ave</td>\n",
       "      <td>40.758997</td>\n",
       "      <td>-73.968654</td>\n",
       "      <td>3230</td>\n",
       "      <td>Penn Station Valet</td>\n",
       "      <td>40.751284</td>\n",
       "      <td>-73.996924</td>\n",
       "      <td>23645</td>\n",
       "      <td>Subscriber</td>\n",
       "      <td>1941.0</td>\n",
       "      <td>female</td>\n",
       "      <td>NaN</td>\n",
       "      <td>2016-05-18</td>\n",
       "      <td>0.00</td>\n",
       "      <td>59.3</td>\n",
       "    </tr>\n",
       "    <tr>\n",
       "      <th>...</th>\n",
       "      <td>...</td>\n",
       "      <td>...</td>\n",
       "      <td>...</td>\n",
       "      <td>...</td>\n",
       "      <td>...</td>\n",
       "      <td>...</td>\n",
       "      <td>...</td>\n",
       "      <td>...</td>\n",
       "      <td>...</td>\n",
       "      <td>...</td>\n",
       "      <td>...</td>\n",
       "      <td>...</td>\n",
       "      <td>...</td>\n",
       "      <td>...</td>\n",
       "      <td>...</td>\n",
       "      <td>...</td>\n",
       "      <td>...</td>\n",
       "      <td>...</td>\n",
       "      <td>...</td>\n",
       "    </tr>\n",
       "    <tr>\n",
       "      <th>53081093</th>\n",
       "      <td>373</td>\n",
       "      <td>2014-02-13 07:44:21</td>\n",
       "      <td>2014-02-13 07:50:34</td>\n",
       "      <td>79</td>\n",
       "      <td>Franklin St &amp; W Broadway</td>\n",
       "      <td>40.719116</td>\n",
       "      <td>-74.006667</td>\n",
       "      <td>309</td>\n",
       "      <td>Murray St &amp; West St</td>\n",
       "      <td>40.714979</td>\n",
       "      <td>-74.013012</td>\n",
       "      <td>16743</td>\n",
       "      <td>Subscriber</td>\n",
       "      <td>1971.0</td>\n",
       "      <td>male</td>\n",
       "      <td>NaN</td>\n",
       "      <td>2014-02-13</td>\n",
       "      <td>0.18</td>\n",
       "      <td>28.7</td>\n",
       "    </tr>\n",
       "    <tr>\n",
       "      <th>53081094</th>\n",
       "      <td>377</td>\n",
       "      <td>2014-02-13 10:51:46</td>\n",
       "      <td>2014-02-13 10:58:03</td>\n",
       "      <td>385</td>\n",
       "      <td>E 55 St &amp; 2 Ave</td>\n",
       "      <td>40.757973</td>\n",
       "      <td>-73.966033</td>\n",
       "      <td>456</td>\n",
       "      <td>E 53 St &amp; Madison Ave</td>\n",
       "      <td>40.759711</td>\n",
       "      <td>-73.974023</td>\n",
       "      <td>20896</td>\n",
       "      <td>Subscriber</td>\n",
       "      <td>1972.0</td>\n",
       "      <td>male</td>\n",
       "      <td>NaN</td>\n",
       "      <td>2014-02-13</td>\n",
       "      <td>0.18</td>\n",
       "      <td>28.7</td>\n",
       "    </tr>\n",
       "    <tr>\n",
       "      <th>53081095</th>\n",
       "      <td>223</td>\n",
       "      <td>2014-02-13 21:56:53</td>\n",
       "      <td>2014-02-13 22:00:36</td>\n",
       "      <td>290</td>\n",
       "      <td>2 Ave &amp; E 58 St</td>\n",
       "      <td>40.760203</td>\n",
       "      <td>-73.964785</td>\n",
       "      <td>164</td>\n",
       "      <td>E 47 St &amp; 2 Ave</td>\n",
       "      <td>40.753231</td>\n",
       "      <td>-73.970325</td>\n",
       "      <td>20926</td>\n",
       "      <td>Subscriber</td>\n",
       "      <td>1975.0</td>\n",
       "      <td>male</td>\n",
       "      <td>NaN</td>\n",
       "      <td>2014-02-13</td>\n",
       "      <td>0.18</td>\n",
       "      <td>28.7</td>\n",
       "    </tr>\n",
       "    <tr>\n",
       "      <th>53081096</th>\n",
       "      <td>817</td>\n",
       "      <td>2014-02-13 16:09:29</td>\n",
       "      <td>2014-02-13 16:23:06</td>\n",
       "      <td>522</td>\n",
       "      <td>E 51 St &amp; Lexington Ave</td>\n",
       "      <td>40.757148</td>\n",
       "      <td>-73.972078</td>\n",
       "      <td>334</td>\n",
       "      <td>W 20 St &amp; 7 Ave</td>\n",
       "      <td>40.742388</td>\n",
       "      <td>-73.997262</td>\n",
       "      <td>21190</td>\n",
       "      <td>Subscriber</td>\n",
       "      <td>1984.0</td>\n",
       "      <td>male</td>\n",
       "      <td>NaN</td>\n",
       "      <td>2014-02-13</td>\n",
       "      <td>0.18</td>\n",
       "      <td>28.7</td>\n",
       "    </tr>\n",
       "    <tr>\n",
       "      <th>53081097</th>\n",
       "      <td>467</td>\n",
       "      <td>2014-02-13 19:21:54</td>\n",
       "      <td>2014-02-13 19:29:41</td>\n",
       "      <td>167</td>\n",
       "      <td>E 39 St &amp; 3 Ave</td>\n",
       "      <td>40.748901</td>\n",
       "      <td>-73.976049</td>\n",
       "      <td>461</td>\n",
       "      <td>E 20 St &amp; 2 Ave</td>\n",
       "      <td>40.735877</td>\n",
       "      <td>-73.982050</td>\n",
       "      <td>14604</td>\n",
       "      <td>Subscriber</td>\n",
       "      <td>1988.0</td>\n",
       "      <td>male</td>\n",
       "      <td>NaN</td>\n",
       "      <td>2014-02-13</td>\n",
       "      <td>0.18</td>\n",
       "      <td>28.7</td>\n",
       "    </tr>\n",
       "  </tbody>\n",
       "</table>\n",
       "<p>53081098 rows × 19 columns</p>\n",
       "</div>"
      ],
      "text/plain": [
       "          tripduration           starttime            stoptime  \\\n",
       "0                  949 2016-05-18 07:54:48 2016-05-18 08:10:37   \n",
       "1                  672 2016-05-18 08:11:31 2016-05-18 08:22:43   \n",
       "2                  727 2016-05-18 14:35:24 2016-05-18 14:47:32   \n",
       "3                 1368 2016-05-18 07:42:18 2016-05-18 08:05:06   \n",
       "4                  975 2016-05-18 16:25:08 2016-05-18 16:41:24   \n",
       "...                ...                 ...                 ...   \n",
       "53081093           373 2014-02-13 07:44:21 2014-02-13 07:50:34   \n",
       "53081094           377 2014-02-13 10:51:46 2014-02-13 10:58:03   \n",
       "53081095           223 2014-02-13 21:56:53 2014-02-13 22:00:36   \n",
       "53081096           817 2014-02-13 16:09:29 2014-02-13 16:23:06   \n",
       "53081097           467 2014-02-13 19:21:54 2014-02-13 19:29:41   \n",
       "\n",
       "          start_station_id        start_station_name  start_station_latitude  \\\n",
       "0                      496           E 16 St & 5 Ave               40.737262   \n",
       "1                      380          W 4 St & 7 Ave S               40.734011   \n",
       "2                      461           E 20 St & 2 Ave               40.735877   \n",
       "3                      435           W 21 St & 6 Ave               40.741740   \n",
       "4                     3223           E 55 St & 3 Ave               40.758997   \n",
       "...                    ...                       ...                     ...   \n",
       "53081093                79  Franklin St & W Broadway               40.719116   \n",
       "53081094               385           E 55 St & 2 Ave               40.757973   \n",
       "53081095               290           2 Ave & E 58 St               40.760203   \n",
       "53081096               522   E 51 St & Lexington Ave               40.757148   \n",
       "53081097               167           E 39 St & 3 Ave               40.748901   \n",
       "\n",
       "          start_station_longitude  end_station_id         end_station_name  \\\n",
       "0                      -73.992390             519    Pershing Square North   \n",
       "1                      -74.002939             379          W 31 St & 7 Ave   \n",
       "2                      -73.982050            3243          E 58 St & 1 Ave   \n",
       "3                      -73.994156             340  Madison St & Clinton St   \n",
       "4                      -73.968654            3230       Penn Station Valet   \n",
       "...                           ...             ...                      ...   \n",
       "53081093               -74.006667             309      Murray St & West St   \n",
       "53081094               -73.966033             456    E 53 St & Madison Ave   \n",
       "53081095               -73.964785             164          E 47 St & 2 Ave   \n",
       "53081096               -73.972078             334          W 20 St & 7 Ave   \n",
       "53081097               -73.976049             461          E 20 St & 2 Ave   \n",
       "\n",
       "          end_station_latitude  end_station_longitude  bikeid    usertype  \\\n",
       "0                    40.751873             -73.977706   15472  Subscriber   \n",
       "1                    40.749156             -73.991600   22002  Subscriber   \n",
       "2                    40.758924             -73.962262   20687  Subscriber   \n",
       "3                    40.712690             -73.987763   20740  Subscriber   \n",
       "4                    40.751284             -73.996924   23645  Subscriber   \n",
       "...                        ...                    ...     ...         ...   \n",
       "53081093             40.714979             -74.013012   16743  Subscriber   \n",
       "53081094             40.759711             -73.974023   20896  Subscriber   \n",
       "53081095             40.753231             -73.970325   20926  Subscriber   \n",
       "53081096             40.742388             -73.997262   21190  Subscriber   \n",
       "53081097             40.735877             -73.982050   14604  Subscriber   \n",
       "\n",
       "          birth_year  gender  customer_plan        date  prcp  temp  \n",
       "0             1949.0    male            NaN  2016-05-18  0.00  59.3  \n",
       "1             1951.0    male            NaN  2016-05-18  0.00  59.3  \n",
       "2             1948.0    male            NaN  2016-05-18  0.00  59.3  \n",
       "3             1900.0    male            NaN  2016-05-18  0.00  59.3  \n",
       "4             1941.0  female            NaN  2016-05-18  0.00  59.3  \n",
       "...              ...     ...            ...         ...   ...   ...  \n",
       "53081093      1971.0    male            NaN  2014-02-13  0.18  28.7  \n",
       "53081094      1972.0    male            NaN  2014-02-13  0.18  28.7  \n",
       "53081095      1975.0    male            NaN  2014-02-13  0.18  28.7  \n",
       "53081096      1984.0    male            NaN  2014-02-13  0.18  28.7  \n",
       "53081097      1988.0    male            NaN  2014-02-13  0.18  28.7  \n",
       "\n",
       "[53081098 rows x 19 columns]"
      ]
     },
     "execution_count": 21,
     "metadata": {},
     "output_type": "execute_result"
    }
   ],
   "source": [
    "trips_w_df = trips_df.merge(weather_df, on = 'date')\n",
    "trips_w_df"
   ]
  },
  {
   "cell_type": "code",
   "execution_count": 22,
   "id": "d0a8b5cb-61d6-4eeb-9e21-04a5c52ffc17",
   "metadata": {},
   "outputs": [
    {
     "data": {
      "text/html": [
       "<div>\n",
       "<style scoped>\n",
       "    .dataframe tbody tr th:only-of-type {\n",
       "        vertical-align: middle;\n",
       "    }\n",
       "\n",
       "    .dataframe tbody tr th {\n",
       "        vertical-align: top;\n",
       "    }\n",
       "\n",
       "    .dataframe thead th {\n",
       "        text-align: right;\n",
       "    }\n",
       "</style>\n",
       "<table border=\"1\" class=\"dataframe\">\n",
       "  <thead>\n",
       "    <tr style=\"text-align: right;\">\n",
       "      <th></th>\n",
       "      <th>tripduration</th>\n",
       "      <th>prcp</th>\n",
       "      <th>temp</th>\n",
       "    </tr>\n",
       "  </thead>\n",
       "  <tbody>\n",
       "    <tr>\n",
       "      <th>tripduration</th>\n",
       "      <td>1.000000</td>\n",
       "      <td>-0.004393</td>\n",
       "      <td>0.065688</td>\n",
       "    </tr>\n",
       "    <tr>\n",
       "      <th>prcp</th>\n",
       "      <td>-0.004393</td>\n",
       "      <td>1.000000</td>\n",
       "      <td>-0.046464</td>\n",
       "    </tr>\n",
       "    <tr>\n",
       "      <th>temp</th>\n",
       "      <td>0.065688</td>\n",
       "      <td>-0.046464</td>\n",
       "      <td>1.000000</td>\n",
       "    </tr>\n",
       "  </tbody>\n",
       "</table>\n",
       "</div>"
      ],
      "text/plain": [
       "              tripduration      prcp      temp\n",
       "tripduration      1.000000 -0.004393  0.065688\n",
       "prcp             -0.004393  1.000000 -0.046464\n",
       "temp              0.065688 -0.046464  1.000000"
      ]
     },
     "execution_count": 22,
     "metadata": {},
     "output_type": "execute_result"
    }
   ],
   "source": [
    "trips_w_df[['tripduration','prcp','temp']].corr()"
   ]
  },
  {
   "cell_type": "markdown",
   "id": "b8a6ba4e-af6a-43ce-9e44-05d47995f206",
   "metadata": {},
   "source": [
    "## At-home exercises\n",
    "- Find the correlation between the number of rides per day, precipitation, and temperature\n",
    "- Find the relationship between number of rides and seasons\n",
    "- Find the relationship between the number of rides and time of day, as well as day of week\n",
    "- Make a heatmap of the city with popular starting stations as well as destinations\n",
    "- What are the most popular routs?"
   ]
  }
 ],
 "metadata": {
  "environment": {
   "kernel": "python3",
   "name": "common-cpu.m108",
   "type": "gcloud",
   "uri": "gcr.io/deeplearning-platform-release/base-cpu:m108"
  },
  "kernelspec": {
   "display_name": "Python 3",
   "language": "python",
   "name": "python3"
  },
  "language_info": {
   "codemirror_mode": {
    "name": "ipython",
    "version": 3
   },
   "file_extension": ".py",
   "mimetype": "text/x-python",
   "name": "python",
   "nbconvert_exporter": "python",
   "pygments_lexer": "ipython3",
   "version": "3.10.10"
  }
 },
 "nbformat": 4,
 "nbformat_minor": 5
}
